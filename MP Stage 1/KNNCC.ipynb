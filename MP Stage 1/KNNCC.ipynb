{
 "cells": [
  {
   "cell_type": "code",
   "execution_count": 1,
   "id": "a1941bcf-ef5c-4cae-a717-907424db20e7",
   "metadata": {},
   "outputs": [],
   "source": [
    "# Step 1: Import necessary libraries\n",
    "import numpy as np\n",
    "import pandas as pd\n",
    "from sklearn.model_selection import train_test_split, GridSearchCV\n",
    "from sklearn.neighbors import KNeighborsClassifier\n",
    "from sklearn.metrics import accuracy_score\n",
    "from IPython.display import display\n",
    "import os   "
   ]
  },
  {
   "cell_type": "code",
   "execution_count": 2,
   "id": "9fa3931d-2b2d-4bf3-a6dd-1a70aeda0662",
   "metadata": {},
   "outputs": [
    {
     "name": "stdout",
     "output_type": "stream",
     "text": [
      "ERROR! Session/line number was not unique in database. History logging moved to new session 42\n"
     ]
    }
   ],
   "source": [
    "# Step 2: File upload function for Jupyter Notebook\n",
    "def load_csv_in_jupyter():\n",
    "    try:\n",
    "        # Option 1: Direct File Path\n",
    "        dataset_path = input(\"Enter the file path for your CSV dataset (or press Enter to upload): \").strip()\n",
    "        \n",
    "        if dataset_path and os.path.exists(dataset_path):\n",
    "            print(f\"Loading dataset from path: {dataset_path}\")\n",
    "            return pd.read_csv(dataset_path)\n",
    "        else:\n",
    "            # Option 2: Manual Upload\n",
    "            print(\"Upload your dataset...\")\n",
    "            from ipywidgets import FileUpload\n",
    "            upload = FileUpload(accept='.csv', multiple=False)\n",
    "            display(upload)\n",
    "\n",
    "            # Wait for the user to upload a file\n",
    "            while not upload.value:\n",
    "                pass  # Keeps checking until a file is uploaded\n",
    "            \n",
    "            uploaded_file = list(upload.value.values())[0]\n",
    "            dataset = pd.read_csv(io.BytesIO(uploaded_file['content']))\n",
    "            print(\"Dataset uploaded successfully!\")\n",
    "            return dataset\n",
    "\n",
    "    except Exception as e:\n",
    "        print(f\"Error occurred: {e}\")\n",
    "        return None"
   ]
  },
  {
   "cell_type": "code",
   "execution_count": 3,
   "id": "db200179-c8ca-4360-9235-0e4734643b78",
   "metadata": {},
   "outputs": [
    {
     "name": "stdin",
     "output_type": "stream",
     "text": [
      "Enter the file path for your CSV dataset (or press Enter to upload):  Downloads/creditcard_2023.csv\n"
     ]
    },
    {
     "name": "stdout",
     "output_type": "stream",
     "text": [
      "Loading dataset from path: Downloads/creditcard_2023.csv\n"
     ]
    }
   ],
   "source": [
    "# Step 3: Load the dataset\n",
    "credit_card_data = load_csv_in_jupyter()"
   ]
  },
  {
   "cell_type": "code",
   "execution_count": 4,
   "id": "f3f0c053-5280-4a30-b896-366ebbea9d39",
   "metadata": {},
   "outputs": [
    {
     "name": "stdout",
     "output_type": "stream",
     "text": [
      "   id        V1        V2        V3        V4        V5        V6        V7  \\\n",
      "0   0 -0.260648 -0.469648  2.496266 -0.083724  0.129681  0.732898  0.519014   \n",
      "1   1  0.985100 -0.356045  0.558056 -0.429654  0.277140  0.428605  0.406466   \n",
      "2   2 -0.260272 -0.949385  1.728538 -0.457986  0.074062  1.419481  0.743511   \n",
      "3   3 -0.152152 -0.508959  1.746840 -1.090178  0.249486  1.143312  0.518269   \n",
      "4   4 -0.206820 -0.165280  1.527053 -0.448293  0.106125  0.530549  0.658849   \n",
      "\n",
      "         V8        V9  ...       V21       V22       V23       V24       V25  \\\n",
      "0 -0.130006  0.727159  ... -0.110552  0.217606 -0.134794  0.165959  0.126280   \n",
      "1 -0.133118  0.347452  ... -0.194936 -0.605761  0.079469 -0.577395  0.190090   \n",
      "2 -0.095576 -0.261297  ... -0.005020  0.702906  0.945045 -1.154666 -0.605564   \n",
      "3 -0.065130 -0.205698  ... -0.146927 -0.038212 -0.214048 -1.893131  1.003963   \n",
      "4 -0.212660  1.049921  ... -0.106984  0.729727 -0.161666  0.312561 -0.414116   \n",
      "\n",
      "        V26       V27       V28    Amount  Class  \n",
      "0 -0.434824 -0.081230 -0.151045  17982.10      0  \n",
      "1  0.296503 -0.248052 -0.064512   6531.37      0  \n",
      "2 -0.312895 -0.300258 -0.244718   2513.54      0  \n",
      "3 -0.515950 -0.165316  0.048424   5384.44      0  \n",
      "4  1.071126  0.023712  0.419117  14278.97      0  \n",
      "\n",
      "[5 rows x 31 columns]\n",
      "<class 'pandas.core.frame.DataFrame'>\n",
      "RangeIndex: 568630 entries, 0 to 568629\n",
      "Data columns (total 31 columns):\n",
      " #   Column  Non-Null Count   Dtype  \n",
      "---  ------  --------------   -----  \n",
      " 0   id      568630 non-null  int64  \n",
      " 1   V1      568630 non-null  float64\n",
      " 2   V2      568630 non-null  float64\n",
      " 3   V3      568630 non-null  float64\n",
      " 4   V4      568630 non-null  float64\n",
      " 5   V5      568630 non-null  float64\n",
      " 6   V6      568630 non-null  float64\n",
      " 7   V7      568630 non-null  float64\n",
      " 8   V8      568630 non-null  float64\n",
      " 9   V9      568630 non-null  float64\n",
      " 10  V10     568630 non-null  float64\n",
      " 11  V11     568630 non-null  float64\n",
      " 12  V12     568630 non-null  float64\n",
      " 13  V13     568630 non-null  float64\n",
      " 14  V14     568630 non-null  float64\n",
      " 15  V15     568630 non-null  float64\n",
      " 16  V16     568630 non-null  float64\n",
      " 17  V17     568630 non-null  float64\n",
      " 18  V18     568630 non-null  float64\n",
      " 19  V19     568630 non-null  float64\n",
      " 20  V20     568630 non-null  float64\n",
      " 21  V21     568630 non-null  float64\n",
      " 22  V22     568630 non-null  float64\n",
      " 23  V23     568630 non-null  float64\n",
      " 24  V24     568630 non-null  float64\n",
      " 25  V25     568630 non-null  float64\n",
      " 26  V26     568630 non-null  float64\n",
      " 27  V27     568630 non-null  float64\n",
      " 28  V28     568630 non-null  float64\n",
      " 29  Amount  568630 non-null  float64\n",
      " 30  Class   568630 non-null  int64  \n",
      "dtypes: float64(29), int64(2)\n",
      "memory usage: 134.5 MB\n",
      "\n",
      "Missing values in dataset:\n",
      "id        0\n",
      "V1        0\n",
      "V2        0\n",
      "V3        0\n",
      "V4        0\n",
      "V5        0\n",
      "V6        0\n",
      "V7        0\n",
      "V8        0\n",
      "V9        0\n",
      "V10       0\n",
      "V11       0\n",
      "V12       0\n",
      "V13       0\n",
      "V14       0\n",
      "V15       0\n",
      "V16       0\n",
      "V17       0\n",
      "V18       0\n",
      "V19       0\n",
      "V20       0\n",
      "V21       0\n",
      "V22       0\n",
      "V23       0\n",
      "V24       0\n",
      "V25       0\n",
      "V26       0\n",
      "V27       0\n",
      "V28       0\n",
      "Amount    0\n",
      "Class     0\n",
      "dtype: int64\n"
     ]
    }
   ],
   "source": [
    "# Step 4: Display the first few rows and dataset info\n",
    "if credit_card_data is not None:\n",
    "    print(credit_card_data.head())\n",
    "    credit_card_data.info()\n",
    "\n",
    "    # Check for missing values\n",
    "    print(\"\\nMissing values in dataset:\")\n",
    "    print(credit_card_data.isnull().sum())"
   ]
  },
  {
   "cell_type": "code",
   "execution_count": 5,
   "id": "3e581535-e88c-4756-855e-e155d9e0fcae",
   "metadata": {},
   "outputs": [
    {
     "name": "stdout",
     "output_type": "stream",
     "text": [
      "Legit transactions: (284315, 31)\n",
      "Fraud transactions: (284315, 31)\n",
      "\n",
      "New Dataset Info:\n",
      "<class 'pandas.core.frame.DataFrame'>\n",
      "Index: 568630 entries, 196870 to 568629\n",
      "Data columns (total 31 columns):\n",
      " #   Column  Non-Null Count   Dtype  \n",
      "---  ------  --------------   -----  \n",
      " 0   id      568630 non-null  int64  \n",
      " 1   V1      568630 non-null  float64\n",
      " 2   V2      568630 non-null  float64\n",
      " 3   V3      568630 non-null  float64\n",
      " 4   V4      568630 non-null  float64\n",
      " 5   V5      568630 non-null  float64\n",
      " 6   V6      568630 non-null  float64\n",
      " 7   V7      568630 non-null  float64\n",
      " 8   V8      568630 non-null  float64\n",
      " 9   V9      568630 non-null  float64\n",
      " 10  V10     568630 non-null  float64\n",
      " 11  V11     568630 non-null  float64\n",
      " 12  V12     568630 non-null  float64\n",
      " 13  V13     568630 non-null  float64\n",
      " 14  V14     568630 non-null  float64\n",
      " 15  V15     568630 non-null  float64\n",
      " 16  V16     568630 non-null  float64\n",
      " 17  V17     568630 non-null  float64\n",
      " 18  V18     568630 non-null  float64\n",
      " 19  V19     568630 non-null  float64\n",
      " 20  V20     568630 non-null  float64\n",
      " 21  V21     568630 non-null  float64\n",
      " 22  V22     568630 non-null  float64\n",
      " 23  V23     568630 non-null  float64\n",
      " 24  V24     568630 non-null  float64\n",
      " 25  V25     568630 non-null  float64\n",
      " 26  V26     568630 non-null  float64\n",
      " 27  V27     568630 non-null  float64\n",
      " 28  V28     568630 non-null  float64\n",
      " 29  Amount  568630 non-null  float64\n",
      " 30  Class   568630 non-null  int64  \n",
      "dtypes: float64(29), int64(2)\n",
      "memory usage: 138.8 MB\n",
      "Shapes of Data: X: (568630, 30), X_train: (454904, 30), X_test: (113726, 30)\n"
     ]
    }
   ],
   "source": [
    "# Step 5: Split data for analysis\n",
    "if credit_card_data is not None:\n",
    "    legit = credit_card_data[credit_card_data['Class'] == 0]\n",
    "    fraud = credit_card_data[credit_card_data['Class'] == 1]\n",
    "    \n",
    "    print(f\"Legit transactions: {legit.shape}\")\n",
    "    print(f\"Fraud transactions: {fraud.shape}\")\n",
    "    \n",
    "    legit_sample = legit.sample(n=len(fraud))  # Balance dataset\n",
    "    new_dataset = pd.concat([legit_sample, fraud], axis=0)\n",
    "\n",
    "    print(\"\\nNew Dataset Info:\")\n",
    "    new_dataset.info()\n",
    "\n",
    "    # Separate features and target variable\n",
    "    X = new_dataset.drop(columns='Class', axis=1)\n",
    "    Y = new_dataset['Class']\n",
    "\n",
    "    # Split into training and testing data\n",
    "    X_train, X_test, Y_train, Y_test = train_test_split(X, Y, test_size=0.2, stratify=Y, random_state=2)\n",
    "\n",
    "    print(f\"Shapes of Data: X: {X.shape}, X_train: {X_train.shape}, X_test: {X_test.shape}\")"
   ]
  },
  {
   "cell_type": "code",
   "execution_count": 6,
   "id": "28deafd3-3c18-497f-8e3d-124c714966a7",
   "metadata": {},
   "outputs": [],
   "source": [
    "model = KNeighborsClassifier(n_neighbors=50)"
   ]
  },
  {
   "cell_type": "code",
   "execution_count": 7,
   "id": "7b835e95-45c9-40da-aa31-6fc3f4757acc",
   "metadata": {},
   "outputs": [
    {
     "name": "stdout",
     "output_type": "stream",
     "text": [
      "Time taken to fit the model: 0.12 seconds\n"
     ]
    }
   ],
   "source": [
    "import time\n",
    "\n",
    "# Start the timer\n",
    "start_time = time.time()\n",
    "\n",
    "# Fit the model\n",
    "model.fit(X_train, Y_train)\n",
    "\n",
    "# End the timer\n",
    "end_time = time.time()\n",
    "\n",
    "# Calculate and display the elapsed time\n",
    "elapsed_time = end_time - start_time\n",
    "print(f\"Time taken to fit the model: {elapsed_time:.2f} seconds\")"
   ]
  },
  {
   "cell_type": "code",
   "execution_count": 8,
   "id": "35dc08bb-097d-47f5-9cb7-5212be595e41",
   "metadata": {},
   "outputs": [
    {
     "name": "stdout",
     "output_type": "stream",
     "text": [
      "Time taken: 534.95\n",
      "\n",
      "Model Evaluation:\n",
      "Training Accuracy: 0.9990591421486731\n",
      "Test Accuracy: 0.9989975907004555\n"
     ]
    }
   ],
   "source": [
    "    # Step 7: Evaluate the model\n",
    "start = time.time()\n",
    "    training_accuracy = model.score(X_train, Y_train)\n",
    "    test_accuracy = model.score(X_test, Y_test)\n",
    "end = time.time()\n",
    "elapsed = end - start\n",
    "print(f\"Time taken: {elapsed:.2f}\")\n",
    "    print(\"\\nModel Evaluation:\")\n",
    "    print(f\"Training Accuracy: {training_accuracy}\")\n",
    "    print(f\"Test Accuracy: {test_accuracy}\")"
   ]
  },
  {
   "cell_type": "code",
   "execution_count": 9,
   "id": "f0c1131b-7686-468c-a168-4da9730709e7",
   "metadata": {},
   "outputs": [],
   "source": [
    "# Make predictions on the test set\n",
    "Y_pred = model.predict(X_test)\n",
    "Y_pred_proba = model.predict_proba(X_test)[:, 1]"
   ]
  },
  {
   "cell_type": "code",
   "execution_count": 10,
   "id": "a307919e-8f59-40a3-a0cd-7fc7820ec0ab",
   "metadata": {},
   "outputs": [
    {
     "name": "stdout",
     "output_type": "stream",
     "text": [
      "              precision    recall  f1-score   support\n",
      "\n",
      "           0       1.00      1.00      1.00     56863\n",
      "           1       1.00      1.00      1.00     56863\n",
      "\n",
      "    accuracy                           1.00    113726\n",
      "   macro avg       1.00      1.00      1.00    113726\n",
      "weighted avg       1.00      1.00      1.00    113726\n",
      "\n",
      "[[56855     8]\n",
      " [  106 56757]]\n"
     ]
    },
    {
     "data": {
      "image/png": "[encoded data removed]",
      "text/plain": [
       "<Figure size 800x600 with 2 Axes>"
      ]
     },
     "metadata": {},
     "output_type": "display_data"
    }
   ],
   "source": [
    "from sklearn.metrics import classification_report, confusion_matrix, roc_auc_score, roc_curve, auc\n",
    "import matplotlib.pyplot as plt\n",
    "import seaborn as sns\n",
    "\n",
    "# Print classification report\n",
    "print(classification_report(Y_test, Y_pred))\n",
    "\n",
    "# Print confusion matrix\n",
    "conf_matrix = confusion_matrix(Y_test, Y_pred)\n",
    "print(conf_matrix)\n",
    "\n",
    "# Plot confusion matrix\n",
    "plt.figure(figsize=(8, 6))\n",
    "sns.heatmap(conf_matrix, annot=True, fmt='d', cmap='Blues', xticklabels=['Not Fraud', 'Fraud'], yticklabels=['Not Fraud', 'Fraud'])\n",
    "plt.xlabel('Predicted')\n",
    "plt.ylabel('Actual')\n",
    "plt.title('Confusion Matrix')\n",
    "plt.show()"
   ]
  },
  {
   "cell_type": "code",
   "execution_count": 11,
   "id": "be98915e-cbc1-4ba6-b074-2ac301731273",
   "metadata": {},
   "outputs": [
    {
     "name": "stdout",
     "output_type": "stream",
     "text": [
      "ROC AUC Score: 0.999302600988526\n"
     ]
    },
    {
     "data": {
      "image/png": "[encoded data removed]",
      "text/plain": [
       "<Figure size 800x600 with 1 Axes>"
      ]
     },
     "metadata": {},
     "output_type": "display_data"
    }
   ],
   "source": [
    "# ROC AUC Score\n",
    "roc_auc = roc_auc_score(Y_test, Y_pred_proba)\n",
    "print(f'ROC AUC Score: {roc_auc}')\n",
    "\n",
    "# Plot ROC Curve\n",
    "fpr, tpr, _ = roc_curve(Y_test, Y_pred_proba)\n",
    "roc_auc = auc(fpr, tpr)\n",
    "\n",
    "plt.figure(figsize=(8, 6))\n",
    "plt.plot(fpr, tpr, color='darkorange', lw=2, label=f'ROC curve (area = {roc_auc:.2f})')\n",
    "plt.plot([0, 1], [0, 1], color='navy', lw=2, linestyle='--')\n",
    "plt.xlim([0.0, 1.0])\n",
    "plt.ylim([0.0, 1.05])\n",
    "plt.xlabel('False Positive Rate')\n",
    "plt.ylabel('True Positive Rate')\n",
    "plt.title('Receiver Operating Characteristic (ROC) Curve')\n",
    "plt.legend(loc=\"lower right\")\n",
    "plt.show()"
   ]
  },
  {
   "cell_type": "code",
   "execution_count": 12,
   "id": "3443032f-218c-4aa1-a4a9-7aa59fb4dd10",
   "metadata": {},
   "outputs": [
    {
     "name": "stdout",
     "output_type": "stream",
     "text": [
      "Accuracy: 0.9990\n"
     ]
    }
   ],
   "source": [
    "# Calculate Accuracy\n",
    "accuracy = accuracy_score(Y_test, Y_pred)\n",
    "print(f'Accuracy: {accuracy:.4f}')"
   ]
  },
  {
   "cell_type": "code",
   "execution_count": null,
   "id": "4e5cee5e-2f24-4f19-ac9f-51707ca7d927",
   "metadata": {},
   "outputs": [],
   "source": [
    "from sklearn.inspection import permutation_importance\n",
    "from sklearn.neighbors import KNeighborsClassifier\n",
    "\n",
    "# Calculate permutation importance\n",
    "perm_importance = permutation_importance(model, X_test, Y_test, n_repeats=10, random_state=42)\n",
    "\n",
    "# Extract feature importance and feature names\n",
    "feature_importance = perm_importance.importances_mean\n",
    "feature_names = X.columns\n",
    "\n",
    "# Create a DataFrame for better visualization\n",
    "importance_df = pd.DataFrame({'Feature': feature_names, 'Importance': feature_importance})\n",
    "importance_df = importance_df.sort_values(by='Importance', ascending=False)\n",
    "\n",
    "# Plot feature importance\n",
    "plt.figure(figsize=(12, 8))\n",
    "sns.barplot(x='Importance', y='Feature', data=importance_df, palette='viridis')\n",
    "plt.title('Feature Importance (KNN - Permutation Importance)')\n",
    "plt.xlabel('Mean Importance (Impact on Model Performance)')\n",
    "plt.ylabel('Features')\n",
    "plt.show()\n"
   ]
  },
  {
   "cell_type": "code",
   "execution_count": null,
   "id": "0e9f6cc0-2989-4f12-9c84-f49b33a19154",
   "metadata": {},
   "outputs": [],
   "source": [
    "# Plot the distribution of the 'Amount' feature\n",
    "plt.figure(figsize=(10, 6))\n",
    "sns.histplot(credit_card_data['Amount'], kde=True, bins=30)\n",
    "plt.title('Distribution of Transaction Amount')\n",
    "plt.xlabel('Amount')\n",
    "plt.ylabel('Frequency')\n",
    "plt.show()"
   ]
  },
  {
   "cell_type": "code",
   "execution_count": null,
   "id": "8f679cd8-2442-4e8e-9f39-0707f831a320",
   "metadata": {},
   "outputs": [],
   "source": [
    "# Plot the distribution of the 'id' feature\n",
    "plt.figure(figsize=(10, 6))\n",
    "sns.histplot(credit_card_data['id'], kde=True, bins=30)\n",
    "plt.title('Distribution of Transaction id')\n",
    "plt.xlabel('id')\n",
    "plt.ylabel('Frequency')\n",
    "plt.show()"
   ]
  },
  {
   "cell_type": "code",
   "execution_count": null,
   "id": "70e08d79-5669-4ad4-b3b8-850a1ead8f14",
   "metadata": {},
   "outputs": [],
   "source": [
    "# Plot the correlation heatmap\n",
    "plt.figure(figsize=(12, 10))\n",
    "corr = credit_card_data.corr()\n",
    "sns.heatmap(corr, annot=False, cmap='coolwarm')\n",
    "plt.title('Correlation Heatmap')\n",
    "plt.show()"
   ]
  },
  {
   "cell_type": "code",
   "execution_count": null,
   "id": "94850027-0fd4-432b-afac-10fedcdeab69",
   "metadata": {},
   "outputs": [],
   "source": [
    "# Example transaction data\n",
    "new_transaction = {\n",
    "    'id': 100000,\n",
    "    'V1': -1.3598071336738,\n",
    "    'V2': -0.0727811733098497,\n",
    "    'V3': 2.53634673796914,\n",
    "    'V4': 1.37815522427443,\n",
    "    'V5': -0.338320769942518,\n",
    "    'V6': 0.462387777762292,\n",
    "    'V7': 0.239598554061257,\n",
    "    'V8': 0.0986979012610507,\n",
    "    'V9': 0.36378696961081,\n",
    "    'V10': 0.090794171978831,\n",
    "    'V11': -0.551599533260813,\n",
    "    'V12': -0.617800855762348,\n",
    "    'V13': -0.991389847235408,\n",
    "    'V14': -0.311169353699879,\n",
    "    'V15': 1.46817697209612,\n",
    "    'V16': -0.470400525259478,\n",
    "    'V17': 0.207971241929242,\n",
    "    'V18': 0.0257905801965587,\n",
    "    'V19': 0.403992960255733,\n",
    "    'V20': 0.251412098259138,\n",
    "    'V21': -0.018306777944153,\n",
    "    'V22': 0.277837575558899,\n",
    "    'V23': -0.110473910188727,\n",
    "    'V24': 0.0669280749146731,\n",
    "    'V25': 0.128539358273528,\n",
    "    'V26': -0.189114843888824,\n",
    "    'V27': 0.133558376740387,\n",
    "    'V28': -0.021053053453821,\n",
    "    'Amount': 123.5\n",
    "}\n",
    "\n",
    "# Convert the dictionary to a DataFrame\n",
    "new_transaction_df = pd.DataFrame([new_transaction])\n",
    "\n",
    "# Scale the 'Amount' feature\n",
    "new_transaction_df['Amount'] = scaler.transform(new_transaction_df['Amount'].values.reshape(-1, 1))\n",
    "\n",
    "# Predict the class\n",
    "prediction = model.predict(new_transaction_df)\n",
    "probability = model.predict_proba(new_transaction_df)[:, 1]\n",
    "\n",
    "print(f'Prediction: {\"Fraud\" if prediction[0] == 1 else \"Not Fraud\"}')\n",
    "print(f'Probability of Fraud: {probability[0]:.4f}')"
   ]
  },
  {
   "cell_type": "code",
   "execution_count": null,
   "id": "94839de9-b0d8-47b4-bbd5-d8db8c78fa2f",
   "metadata": {},
   "outputs": [],
   "source": [
    "# Example transaction data\n",
    "new_non_fraud_transaction = {\n",
    "    'id': 10000,\n",
    "    'V1': -0.5448621018518518,\n",
    "    'V2': 0.5448621018518518,\n",
    "    'V3': -0.5448621018518518,\n",
    "    'V4': 1.5448621018518518,\n",
    "    'V5': -0.5448621018518518,\n",
    "    'V6': 0.5448621018518518,\n",
    "    'V7': -0.5448621018518518,\n",
    "    'V8': 0.5448621018518518,\n",
    "    'V9': -0.5448621018518518,\n",
    "    'V10': 0.5448621018518518,\n",
    "    'V11': -1.5448621018518518,\n",
    "    'V12': 1.5448621018518518,\n",
    "    'V13': -0.5448621018518518,\n",
    "    'V14': 0.5448621018518518,\n",
    "    'V15': -0.5448621018518518,\n",
    "    'V16': 0.5448621018518518,\n",
    "    'V17': -0.5448621018518518,\n",
    "    'V18': 0.5448621018518518,\n",
    "    'V19': -0.5448621018518518,\n",
    "    'V20': 0.5448621018518518,\n",
    "    'V21': -0.5448621018518518,\n",
    "    'V22': 0.5448621018518518,\n",
    "    'V23': -0.5448621018518518,\n",
    "    'V24': 0.5448621018518518,\n",
    "    'V25': -0.5448621018518518,\n",
    "    'V26': 0.5448621018518518,\n",
    "    'V27': -0.5448621018518518,\n",
    "    'V28': 0.5448621018518518,\n",
    "    'Amount': 2000.0  # Small transaction amount\n",
    "}\n",
    "\n",
    "# Convert the dictionary to a DataFrame\n",
    "new_non_fraud_transaction_df = pd.DataFrame([new_non_fraud_transaction])\n",
    "\n",
    "# Scale the 'Amount' feature\n",
    "new_non_fraud_transaction_df['Amount'] = scaler.transform(new_non_fraud_transaction_df['Amount'].values.reshape(-1, 1))\n",
    "\n",
    "# Predict the class\n",
    "prediction = model.predict(new_non_fraud_transaction_df)\n",
    "probability = model.predict_proba(new_non_fraud_transaction_df)[:, 1]\n",
    "\n",
    "print(f'Prediction: {\"Fraud\" if prediction[0] == 1 else \"Not Fraud\"}')\n",
    "print(f'Probability of Fraud: {probability[0]:.4f}')"
   ]
  }
 ],
 "metadata": {
  "kernelspec": {
   "display_name": "Python 3 (ipykernel)",
   "language": "python",
   "name": "python3"
  },
  "language_info": {
   "codemirror_mode": {
    "name": "ipython",
    "version": 3
   },
   "file_extension": ".py",
   "mimetype": "text/x-python",
   "name": "python",
   "nbconvert_exporter": "python",
   "pygments_lexer": "ipython3",
   "version": "3.13.1"
  }
 },
 "nbformat": 4,
 "nbformat_minor": 5
}
