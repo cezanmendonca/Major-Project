{
 "cells": [
  {
   "cell_type": "code",
   "execution_count": 2,
   "id": "37e136a7-3902-4dd9-914c-2766450be426",
   "metadata": {},
   "outputs": [],
   "source": [
    "import pytest\n",
    "import numpy as np\n",
    "import pandas as pd\n",
    "from sklearn.model_selection import train_test_split\n",
    "from sklearn.preprocessing import StandardScaler\n",
    "from sklearn.linear_model import SGDClassifier\n",
    "from sklearn.ensemble import AdaBoostClassifier\n",
    "from sklearn.metrics import accuracy_score\n",
    "\n",
    "# Load dataset\n",
    "df = pd.read_csv('Downloads/creditcard_2023.csv')\n",
    "\n",
    "@pytest.fixture\n",
    "def sample_data():\n",
    "    data = {\n",
    "        'Feature1': np.random.rand(100),\n",
    "        'Feature2': np.random.rand(100),\n",
    "        'Class': np.random.randint(0, 2, 100)\n",
    "    }\n",
    "    df = pd.DataFrame(data)\n",
    "    return df\n",
    "\n",
    "# Test full pipeline integration\n",
    "def test_pipeline_integration(sample_data):\n",
    "    # Preprocessing\n",
    "    X = sample_data.drop(columns='Class', axis=1)\n",
    "    Y = sample_data['Class']\n",
    "\n",
    "    scaler = StandardScaler()\n",
    "    X = scaler.fit_transform(X)\n",
    "\n",
    "    X_train, X_test, Y_train, Y_test = train_test_split(X, Y, test_size=0.2, stratify=Y, random_state=2)\n",
    "\n",
    "    # Model Training\n",
    "    sgd_model = SGDClassifier(loss='log_loss', max_iter=10000, random_state=42)\n",
    "    adaboost_model = AdaBoostClassifier(n_estimators=50, random_state=42)\n",
    "\n",
    "    sgd_model.fit(X_train, Y_train)\n",
    "    adaboost_model.fit(X_train, Y_train)\n",
    "\n",
    "    # Predictions\n",
    "    sgd_preds = sgd_model.predict_proba(X_test)[:, 1]\n",
    "    adaboost_preds = adaboost_model.predict_proba(X_test)[:, 1]\n",
    "\n",
    "    hybrid_preds = (0.5 * sgd_preds) + (0.5 * adaboost_preds)\n",
    "    hybrid_preds_class = (hybrid_preds >= 0.5).astype(int)\n",
    "\n",
    "    # Accuracy Calculation\n",
    "    test_accuracy = accuracy_score(Y_test, hybrid_preds_class)\n",
    "\n",
    "    assert test_accuracy > 0  # Ensure model is making valid predictions\n"
   ]
  },
  {
   "cell_type": "code",
   "execution_count": null,
   "id": "31c39429-83ea-45e4-b93f-17191fef980a",
   "metadata": {},
   "outputs": [],
   "source": []
  }
 ],
 "metadata": {
  "kernelspec": {
   "display_name": "Python 3 (ipykernel)",
   "language": "python",
   "name": "python3"
  },
  "language_info": {
   "codemirror_mode": {
    "name": "ipython",
    "version": 3
   },
   "file_extension": ".py",
   "mimetype": "text/x-python",
   "name": "python",
   "nbconvert_exporter": "python",
   "pygments_lexer": "ipython3",
   "version": "3.12.2"
  }
 },
 "nbformat": 4,
 "nbformat_minor": 5
}
