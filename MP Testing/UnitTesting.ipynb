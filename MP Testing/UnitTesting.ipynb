{
 "cells": [
  {
   "cell_type": "code",
   "execution_count": 2,
   "id": "95265fca-a403-4b30-be07-f1bb9109cf3c",
   "metadata": {},
   "outputs": [
    {
     "name": "stdout",
     "output_type": "stream",
     "text": [
      "Collecting pytest\n",
      "  Downloading pytest-8.3.5-py3-none-any.whl.metadata (7.6 kB)\n",
      "Collecting iniconfig (from pytest)\n",
      "  Downloading iniconfig-2.1.0-py3-none-any.whl.metadata (2.7 kB)\n",
      "Requirement already satisfied: packaging in ./venv/lib/python3.12/site-packages (from pytest) (24.2)\n",
      "Collecting pluggy<2,>=1.5 (from pytest)\n",
      "  Downloading pluggy-1.5.0-py3-none-any.whl.metadata (4.8 kB)\n",
      "Downloading pytest-8.3.5-py3-none-any.whl (343 kB)\n",
      "Downloading pluggy-1.5.0-py3-none-any.whl (20 kB)\n",
      "Downloading iniconfig-2.1.0-py3-none-any.whl (6.0 kB)\n",
      "Installing collected packages: pluggy, iniconfig, pytest\n",
      "Successfully installed iniconfig-2.1.0 pluggy-1.5.0 pytest-8.3.5\n",
      "\n",
      "\u001b[1m[\u001b[0m\u001b[34;49mnotice\u001b[0m\u001b[1;39;49m]\u001b[0m\u001b[39;49m A new release of pip is available: \u001b[0m\u001b[31;49m25.0\u001b[0m\u001b[39;49m -> \u001b[0m\u001b[32;49m25.0.1\u001b[0m\n",
      "\u001b[1m[\u001b[0m\u001b[34;49mnotice\u001b[0m\u001b[1;39;49m]\u001b[0m\u001b[39;49m To update, run: \u001b[0m\u001b[32;49mpip install --upgrade pip\u001b[0m\n"
     ]
    }
   ],
   "source": [
    "!pip install pytest"
   ]
  },
  {
   "cell_type": "code",
   "execution_count": 3,
   "id": "fd91b884-af6d-4324-a7e7-0a75b3b83eb7",
   "metadata": {},
   "outputs": [],
   "source": [
    "import pytest\n",
    "import numpy as np\n",
    "import pandas as pd\n",
    "from sklearn.model_selection import train_test_split\n",
    "from sklearn.preprocessing import StandardScaler\n",
    "from sklearn.linear_model import SGDClassifier\n",
    "from sklearn.ensemble import AdaBoostClassifier\n",
    "from sklearn.metrics import accuracy_score\n",
    "\n",
    "# Load dataset (Mock small dataset for unit testing)\n",
    "df = pd.read_csv('Downloads/creditcard_2023.csv')\n",
    "\n",
    "@pytest.fixture\n",
    "def sample_data():\n",
    "    data = {\n",
    "        'Feature1': np.random.rand(100),\n",
    "        'Feature2': np.random.rand(100),\n",
    "        'Class': np.random.randint(0, 2, 100)\n",
    "    }\n",
    "    df = pd.DataFrame(data)\n",
    "    return df\n",
    "\n",
    "# Test data preprocessing\n",
    "def test_data_preprocessing(sample_data):\n",
    "    X = sample_data.drop(columns='Class', axis=1)\n",
    "    Y = sample_data['Class']\n",
    "    \n",
    "    scaler = StandardScaler()\n",
    "    X_scaled = scaler.fit_transform(X)\n",
    "    \n",
    "    assert X_scaled.shape == X.shape  # Check dimensions remain the same\n",
    "\n",
    "# Test model initialization\n",
    "def test_model_initialization():\n",
    "    sgd_model = SGDClassifier(loss='log_loss', max_iter=10000, random_state=42)\n",
    "    adaboost_model = AdaBoostClassifier(n_estimators=50, random_state=42)\n",
    "\n",
    "    assert isinstance(sgd_model, SGDClassifier)\n",
    "    assert isinstance(adaboost_model, AdaBoostClassifier)\n",
    "\n",
    "# Test model training\n",
    "def test_model_training(sample_data):\n",
    "    X = sample_data.drop(columns='Class', axis=1)\n",
    "    Y = sample_data['Class']\n",
    "    \n",
    "    scaler = StandardScaler()\n",
    "    X = scaler.fit_transform(X)\n",
    "    \n",
    "    X_train, X_test, Y_train, Y_test = train_test_split(X, Y, test_size=0.2, stratify=Y, random_state=2)\n",
    "\n",
    "    sgd_model = SGDClassifier(loss='log_loss', max_iter=10000, random_state=42)\n",
    "    adaboost_model = AdaBoostClassifier(n_estimators=50, random_state=42)\n",
    "\n",
    "    sgd_model.fit(X_train, Y_train)\n",
    "    adaboost_model.fit(X_train, Y_train)\n",
    "\n",
    "    sgd_preds = sgd_model.predict(X_test)\n",
    "    adaboost_preds = adaboost_model.predict(X_test)\n",
    "\n",
    "    assert len(sgd_preds) == len(Y_test)\n",
    "    assert len(adaboost_preds) == len(Y_test)\n",
    "\n",
    "# Test accuracy calculation\n",
    "def test_accuracy_calculation():\n",
    "    y_true = np.array([0, 1, 1, 0, 1])\n",
    "    y_pred = np.array([0, 1, 1, 1, 1])\n",
    "    \n",
    "    accuracy = accuracy_score(y_true, y_pred)\n",
    "    \n",
    "    assert isinstance(accuracy, float)\n",
    "    assert 0 <= accuracy <= 1  # Ensure accuracy is between 0 and 1\n"
   ]
  },
  {
   "cell_type": "code",
   "execution_count": null,
   "id": "d1a91e01-0daa-4b29-944a-b53135099889",
   "metadata": {},
   "outputs": [],
   "source": []
  }
 ],
 "metadata": {
  "kernelspec": {
   "display_name": "Python 3 (ipykernel)",
   "language": "python",
   "name": "python3"
  },
  "language_info": {
   "codemirror_mode": {
    "name": "ipython",
    "version": 3
   },
   "file_extension": ".py",
   "mimetype": "text/x-python",
   "name": "python",
   "nbconvert_exporter": "python",
   "pygments_lexer": "ipython3",
   "version": "3.12.2"
  }
 },
 "nbformat": 4,
 "nbformat_minor": 5
}
