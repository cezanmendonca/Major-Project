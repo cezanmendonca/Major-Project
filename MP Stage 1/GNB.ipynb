{
 "cells": [
  {
   "cell_type": "code",
   "execution_count": 1,
   "id": "380cd03f-ccea-4cb1-8b87-493f84bb47ed",
   "metadata": {},
   "outputs": [],
   "source": [
    "import numpy as np\n",
    "import pandas as pd\n",
    "from sklearn.model_selection import train_test_split\n",
    "from sklearn.linear_model import LogisticRegression\n",
    "from sklearn.metrics import classification_report, confusion_matrix, roc_auc_score, roc_curve, auc, accuracy_score\n",
    "from sklearn.naive_bayes import GaussianNB\n",
    "import matplotlib.pyplot as plt\n",
    "import seaborn as sns\n",
    "from sklearn.preprocessing import StandardScaler\n",
    "import os"
   ]
  },
  {
   "cell_type": "code",
   "execution_count": 2,
   "id": "811022a2-887d-496d-af09-590cebdd50c3",
   "metadata": {},
   "outputs": [],
   "source": [
    "# Step 2: File upload function for Jupyter Notebook\n",
    "def load_csv_in_jupyter():\n",
    "    try:\n",
    "        # Option 1: Direct File Path\n",
    "        dataset_path = input(\"Enter the file path for your CSV dataset (or press Enter to upload): \").strip()\n",
    "        \n",
    "        if dataset_path and os.path.exists(dataset_path):\n",
    "            print(f\"Loading dataset from path: {dataset_path}\")\n",
    "            return pd.read_csv(dataset_path)\n",
    "        else:\n",
    "            # Option 2: Manual Upload\n",
    "            print(\"Upload your dataset...\")\n",
    "            from ipywidgets import FileUpload\n",
    "            upload = FileUpload(accept='.csv', multiple=False)\n",
    "            display(upload)\n",
    "\n",
    "            # Wait for the user to upload a file\n",
    "            while not upload.value:\n",
    "                pass  # Keeps checking until a file is uploaded\n",
    "            \n",
    "            uploaded_file = list(upload.value.values())[0]\n",
    "            dataset = pd.read_csv(io.BytesIO(uploaded_file['content']))\n",
    "            print(\"Dataset uploaded successfully!\")\n",
    "            return dataset\n",
    "\n",
    "    except Exception as e:\n",
    "        print(f\"Error occurred: {e}\")\n",
    "        return None"
   ]
  },
  {
   "cell_type": "code",
   "execution_count": 3,
   "id": "f58fc6ff-7e96-460a-a853-344f64c6f186",
   "metadata": {},
   "outputs": [
    {
     "name": "stdin",
     "output_type": "stream",
     "text": [
      "Enter the file path for your CSV dataset (or press Enter to upload):  Downloads/creditcard_2023.csv\n"
     ]
    },
    {
     "name": "stdout",
     "output_type": "stream",
     "text": [
      "Loading dataset from path: Downloads/creditcard_2023.csv\n"
     ]
    }
   ],
   "source": [
    "# Step 3: Load the dataset\n",
    "credit_card_data = load_csv_in_jupyter()"
   ]
  },
  {
   "cell_type": "code",
   "execution_count": 4,
   "id": "43ac464d-a5af-4022-bccf-b1f0bc3d5d03",
   "metadata": {},
   "outputs": [
    {
     "data": {
      "text/html": [
       "<div>\n",
       "<style scoped>\n",
       "    .dataframe tbody tr th:only-of-type {\n",
       "        vertical-align: middle;\n",
       "    }\n",
       "\n",
       "    .dataframe tbody tr th {\n",
       "        vertical-align: top;\n",
       "    }\n",
       "\n",
       "    .dataframe thead th {\n",
       "        text-align: right;\n",
       "    }\n",
       "</style>\n",
       "<table border=\"1\" class=\"dataframe\">\n",
       "  <thead>\n",
       "    <tr style=\"text-align: right;\">\n",
       "      <th></th>\n",
       "      <th>id</th>\n",
       "      <th>V1</th>\n",
       "      <th>V2</th>\n",
       "      <th>V3</th>\n",
       "      <th>V4</th>\n",
       "      <th>V5</th>\n",
       "      <th>V6</th>\n",
       "      <th>V7</th>\n",
       "      <th>V8</th>\n",
       "      <th>V9</th>\n",
       "      <th>...</th>\n",
       "      <th>V21</th>\n",
       "      <th>V22</th>\n",
       "      <th>V23</th>\n",
       "      <th>V24</th>\n",
       "      <th>V25</th>\n",
       "      <th>V26</th>\n",
       "      <th>V27</th>\n",
       "      <th>V28</th>\n",
       "      <th>Amount</th>\n",
       "      <th>Class</th>\n",
       "    </tr>\n",
       "  </thead>\n",
       "  <tbody>\n",
       "    <tr>\n",
       "      <th>0</th>\n",
       "      <td>0</td>\n",
       "      <td>-0.260648</td>\n",
       "      <td>-0.469648</td>\n",
       "      <td>2.496266</td>\n",
       "      <td>-0.083724</td>\n",
       "      <td>0.129681</td>\n",
       "      <td>0.732898</td>\n",
       "      <td>0.519014</td>\n",
       "      <td>-0.130006</td>\n",
       "      <td>0.727159</td>\n",
       "      <td>...</td>\n",
       "      <td>-0.110552</td>\n",
       "      <td>0.217606</td>\n",
       "      <td>-0.134794</td>\n",
       "      <td>0.165959</td>\n",
       "      <td>0.126280</td>\n",
       "      <td>-0.434824</td>\n",
       "      <td>-0.081230</td>\n",
       "      <td>-0.151045</td>\n",
       "      <td>17982.10</td>\n",
       "      <td>0</td>\n",
       "    </tr>\n",
       "    <tr>\n",
       "      <th>1</th>\n",
       "      <td>1</td>\n",
       "      <td>0.985100</td>\n",
       "      <td>-0.356045</td>\n",
       "      <td>0.558056</td>\n",
       "      <td>-0.429654</td>\n",
       "      <td>0.277140</td>\n",
       "      <td>0.428605</td>\n",
       "      <td>0.406466</td>\n",
       "      <td>-0.133118</td>\n",
       "      <td>0.347452</td>\n",
       "      <td>...</td>\n",
       "      <td>-0.194936</td>\n",
       "      <td>-0.605761</td>\n",
       "      <td>0.079469</td>\n",
       "      <td>-0.577395</td>\n",
       "      <td>0.190090</td>\n",
       "      <td>0.296503</td>\n",
       "      <td>-0.248052</td>\n",
       "      <td>-0.064512</td>\n",
       "      <td>6531.37</td>\n",
       "      <td>0</td>\n",
       "    </tr>\n",
       "    <tr>\n",
       "      <th>2</th>\n",
       "      <td>2</td>\n",
       "      <td>-0.260272</td>\n",
       "      <td>-0.949385</td>\n",
       "      <td>1.728538</td>\n",
       "      <td>-0.457986</td>\n",
       "      <td>0.074062</td>\n",
       "      <td>1.419481</td>\n",
       "      <td>0.743511</td>\n",
       "      <td>-0.095576</td>\n",
       "      <td>-0.261297</td>\n",
       "      <td>...</td>\n",
       "      <td>-0.005020</td>\n",
       "      <td>0.702906</td>\n",
       "      <td>0.945045</td>\n",
       "      <td>-1.154666</td>\n",
       "      <td>-0.605564</td>\n",
       "      <td>-0.312895</td>\n",
       "      <td>-0.300258</td>\n",
       "      <td>-0.244718</td>\n",
       "      <td>2513.54</td>\n",
       "      <td>0</td>\n",
       "    </tr>\n",
       "    <tr>\n",
       "      <th>3</th>\n",
       "      <td>3</td>\n",
       "      <td>-0.152152</td>\n",
       "      <td>-0.508959</td>\n",
       "      <td>1.746840</td>\n",
       "      <td>-1.090178</td>\n",
       "      <td>0.249486</td>\n",
       "      <td>1.143312</td>\n",
       "      <td>0.518269</td>\n",
       "      <td>-0.065130</td>\n",
       "      <td>-0.205698</td>\n",
       "      <td>...</td>\n",
       "      <td>-0.146927</td>\n",
       "      <td>-0.038212</td>\n",
       "      <td>-0.214048</td>\n",
       "      <td>-1.893131</td>\n",
       "      <td>1.003963</td>\n",
       "      <td>-0.515950</td>\n",
       "      <td>-0.165316</td>\n",
       "      <td>0.048424</td>\n",
       "      <td>5384.44</td>\n",
       "      <td>0</td>\n",
       "    </tr>\n",
       "    <tr>\n",
       "      <th>4</th>\n",
       "      <td>4</td>\n",
       "      <td>-0.206820</td>\n",
       "      <td>-0.165280</td>\n",
       "      <td>1.527053</td>\n",
       "      <td>-0.448293</td>\n",
       "      <td>0.106125</td>\n",
       "      <td>0.530549</td>\n",
       "      <td>0.658849</td>\n",
       "      <td>-0.212660</td>\n",
       "      <td>1.049921</td>\n",
       "      <td>...</td>\n",
       "      <td>-0.106984</td>\n",
       "      <td>0.729727</td>\n",
       "      <td>-0.161666</td>\n",
       "      <td>0.312561</td>\n",
       "      <td>-0.414116</td>\n",
       "      <td>1.071126</td>\n",
       "      <td>0.023712</td>\n",
       "      <td>0.419117</td>\n",
       "      <td>14278.97</td>\n",
       "      <td>0</td>\n",
       "    </tr>\n",
       "  </tbody>\n",
       "</table>\n",
       "<p>5 rows × 31 columns</p>\n",
       "</div>"
      ],
      "text/plain": [
       "   id        V1        V2        V3        V4        V5        V6        V7  \\\n",
       "0   0 -0.260648 -0.469648  2.496266 -0.083724  0.129681  0.732898  0.519014   \n",
       "1   1  0.985100 -0.356045  0.558056 -0.429654  0.277140  0.428605  0.406466   \n",
       "2   2 -0.260272 -0.949385  1.728538 -0.457986  0.074062  1.419481  0.743511   \n",
       "3   3 -0.152152 -0.508959  1.746840 -1.090178  0.249486  1.143312  0.518269   \n",
       "4   4 -0.206820 -0.165280  1.527053 -0.448293  0.106125  0.530549  0.658849   \n",
       "\n",
       "         V8        V9  ...       V21       V22       V23       V24       V25  \\\n",
       "0 -0.130006  0.727159  ... -0.110552  0.217606 -0.134794  0.165959  0.126280   \n",
       "1 -0.133118  0.347452  ... -0.194936 -0.605761  0.079469 -0.577395  0.190090   \n",
       "2 -0.095576 -0.261297  ... -0.005020  0.702906  0.945045 -1.154666 -0.605564   \n",
       "3 -0.065130 -0.205698  ... -0.146927 -0.038212 -0.214048 -1.893131  1.003963   \n",
       "4 -0.212660  1.049921  ... -0.106984  0.729727 -0.161666  0.312561 -0.414116   \n",
       "\n",
       "        V26       V27       V28    Amount  Class  \n",
       "0 -0.434824 -0.081230 -0.151045  17982.10      0  \n",
       "1  0.296503 -0.248052 -0.064512   6531.37      0  \n",
       "2 -0.312895 -0.300258 -0.244718   2513.54      0  \n",
       "3 -0.515950 -0.165316  0.048424   5384.44      0  \n",
       "4  1.071126  0.023712  0.419117  14278.97      0  \n",
       "\n",
       "[5 rows x 31 columns]"
      ]
     },
     "execution_count": 4,
     "metadata": {},
     "output_type": "execute_result"
    }
   ],
   "source": [
    "credit_card_data.head()"
   ]
  },
  {
   "cell_type": "code",
   "execution_count": 5,
   "id": "339903bb-20ff-483a-8bd5-d1f07371c398",
   "metadata": {},
   "outputs": [
    {
     "data": {
      "text/html": [
       "<div>\n",
       "<style scoped>\n",
       "    .dataframe tbody tr th:only-of-type {\n",
       "        vertical-align: middle;\n",
       "    }\n",
       "\n",
       "    .dataframe tbody tr th {\n",
       "        vertical-align: top;\n",
       "    }\n",
       "\n",
       "    .dataframe thead th {\n",
       "        text-align: right;\n",
       "    }\n",
       "</style>\n",
       "<table border=\"1\" class=\"dataframe\">\n",
       "  <thead>\n",
       "    <tr style=\"text-align: right;\">\n",
       "      <th></th>\n",
       "      <th>id</th>\n",
       "      <th>V1</th>\n",
       "      <th>V2</th>\n",
       "      <th>V3</th>\n",
       "      <th>V4</th>\n",
       "      <th>V5</th>\n",
       "      <th>V6</th>\n",
       "      <th>V7</th>\n",
       "      <th>V8</th>\n",
       "      <th>V9</th>\n",
       "      <th>...</th>\n",
       "      <th>V21</th>\n",
       "      <th>V22</th>\n",
       "      <th>V23</th>\n",
       "      <th>V24</th>\n",
       "      <th>V25</th>\n",
       "      <th>V26</th>\n",
       "      <th>V27</th>\n",
       "      <th>V28</th>\n",
       "      <th>Amount</th>\n",
       "      <th>Class</th>\n",
       "    </tr>\n",
       "  </thead>\n",
       "  <tbody>\n",
       "    <tr>\n",
       "      <th>568625</th>\n",
       "      <td>568625</td>\n",
       "      <td>-0.833437</td>\n",
       "      <td>0.061886</td>\n",
       "      <td>-0.899794</td>\n",
       "      <td>0.904227</td>\n",
       "      <td>-1.002401</td>\n",
       "      <td>0.481454</td>\n",
       "      <td>-0.370393</td>\n",
       "      <td>0.189694</td>\n",
       "      <td>-0.938153</td>\n",
       "      <td>...</td>\n",
       "      <td>0.167503</td>\n",
       "      <td>0.419731</td>\n",
       "      <td>1.288249</td>\n",
       "      <td>-0.900861</td>\n",
       "      <td>0.560661</td>\n",
       "      <td>-0.006018</td>\n",
       "      <td>3.308968</td>\n",
       "      <td>0.081564</td>\n",
       "      <td>4394.16</td>\n",
       "      <td>1</td>\n",
       "    </tr>\n",
       "    <tr>\n",
       "      <th>568626</th>\n",
       "      <td>568626</td>\n",
       "      <td>-0.670459</td>\n",
       "      <td>-0.202896</td>\n",
       "      <td>-0.068129</td>\n",
       "      <td>-0.267328</td>\n",
       "      <td>-0.133660</td>\n",
       "      <td>0.237148</td>\n",
       "      <td>-0.016935</td>\n",
       "      <td>-0.147733</td>\n",
       "      <td>0.483894</td>\n",
       "      <td>...</td>\n",
       "      <td>0.031874</td>\n",
       "      <td>0.388161</td>\n",
       "      <td>-0.154257</td>\n",
       "      <td>-0.846452</td>\n",
       "      <td>-0.153443</td>\n",
       "      <td>1.961398</td>\n",
       "      <td>-1.528642</td>\n",
       "      <td>1.704306</td>\n",
       "      <td>4653.40</td>\n",
       "      <td>1</td>\n",
       "    </tr>\n",
       "    <tr>\n",
       "      <th>568627</th>\n",
       "      <td>568627</td>\n",
       "      <td>-0.311997</td>\n",
       "      <td>-0.004095</td>\n",
       "      <td>0.137526</td>\n",
       "      <td>-0.035893</td>\n",
       "      <td>-0.042291</td>\n",
       "      <td>0.121098</td>\n",
       "      <td>-0.070958</td>\n",
       "      <td>-0.019997</td>\n",
       "      <td>-0.122048</td>\n",
       "      <td>...</td>\n",
       "      <td>0.140788</td>\n",
       "      <td>0.536523</td>\n",
       "      <td>-0.211100</td>\n",
       "      <td>-0.448909</td>\n",
       "      <td>0.540073</td>\n",
       "      <td>-0.755836</td>\n",
       "      <td>-0.487540</td>\n",
       "      <td>-0.268741</td>\n",
       "      <td>23572.85</td>\n",
       "      <td>1</td>\n",
       "    </tr>\n",
       "    <tr>\n",
       "      <th>568628</th>\n",
       "      <td>568628</td>\n",
       "      <td>0.636871</td>\n",
       "      <td>-0.516970</td>\n",
       "      <td>-0.300889</td>\n",
       "      <td>-0.144480</td>\n",
       "      <td>0.131042</td>\n",
       "      <td>-0.294148</td>\n",
       "      <td>0.580568</td>\n",
       "      <td>-0.207723</td>\n",
       "      <td>0.893527</td>\n",
       "      <td>...</td>\n",
       "      <td>-0.060381</td>\n",
       "      <td>-0.195609</td>\n",
       "      <td>-0.175488</td>\n",
       "      <td>-0.554643</td>\n",
       "      <td>-0.099669</td>\n",
       "      <td>-1.434931</td>\n",
       "      <td>-0.159269</td>\n",
       "      <td>-0.076251</td>\n",
       "      <td>10160.83</td>\n",
       "      <td>1</td>\n",
       "    </tr>\n",
       "    <tr>\n",
       "      <th>568629</th>\n",
       "      <td>568629</td>\n",
       "      <td>-0.795144</td>\n",
       "      <td>0.433236</td>\n",
       "      <td>-0.649140</td>\n",
       "      <td>0.374732</td>\n",
       "      <td>-0.244976</td>\n",
       "      <td>-0.603493</td>\n",
       "      <td>-0.347613</td>\n",
       "      <td>-0.340814</td>\n",
       "      <td>0.253971</td>\n",
       "      <td>...</td>\n",
       "      <td>0.534853</td>\n",
       "      <td>-0.291514</td>\n",
       "      <td>0.157303</td>\n",
       "      <td>0.931030</td>\n",
       "      <td>-0.349423</td>\n",
       "      <td>-1.090974</td>\n",
       "      <td>-1.575113</td>\n",
       "      <td>0.722936</td>\n",
       "      <td>21493.92</td>\n",
       "      <td>1</td>\n",
       "    </tr>\n",
       "  </tbody>\n",
       "</table>\n",
       "<p>5 rows × 31 columns</p>\n",
       "</div>"
      ],
      "text/plain": [
       "            id        V1        V2        V3        V4        V5        V6  \\\n",
       "568625  568625 -0.833437  0.061886 -0.899794  0.904227 -1.002401  0.481454   \n",
       "568626  568626 -0.670459 -0.202896 -0.068129 -0.267328 -0.133660  0.237148   \n",
       "568627  568627 -0.311997 -0.004095  0.137526 -0.035893 -0.042291  0.121098   \n",
       "568628  568628  0.636871 -0.516970 -0.300889 -0.144480  0.131042 -0.294148   \n",
       "568629  568629 -0.795144  0.433236 -0.649140  0.374732 -0.244976 -0.603493   \n",
       "\n",
       "              V7        V8        V9  ...       V21       V22       V23  \\\n",
       "568625 -0.370393  0.189694 -0.938153  ...  0.167503  0.419731  1.288249   \n",
       "568626 -0.016935 -0.147733  0.483894  ...  0.031874  0.388161 -0.154257   \n",
       "568627 -0.070958 -0.019997 -0.122048  ...  0.140788  0.536523 -0.211100   \n",
       "568628  0.580568 -0.207723  0.893527  ... -0.060381 -0.195609 -0.175488   \n",
       "568629 -0.347613 -0.340814  0.253971  ...  0.534853 -0.291514  0.157303   \n",
       "\n",
       "             V24       V25       V26       V27       V28    Amount  Class  \n",
       "568625 -0.900861  0.560661 -0.006018  3.308968  0.081564   4394.16      1  \n",
       "568626 -0.846452 -0.153443  1.961398 -1.528642  1.704306   4653.40      1  \n",
       "568627 -0.448909  0.540073 -0.755836 -0.487540 -0.268741  23572.85      1  \n",
       "568628 -0.554643 -0.099669 -1.434931 -0.159269 -0.076251  10160.83      1  \n",
       "568629  0.931030 -0.349423 -1.090974 -1.575113  0.722936  21493.92      1  \n",
       "\n",
       "[5 rows x 31 columns]"
      ]
     },
     "execution_count": 5,
     "metadata": {},
     "output_type": "execute_result"
    }
   ],
   "source": [
    "credit_card_data.tail()"
   ]
  },
  {
   "cell_type": "code",
   "execution_count": 6,
   "id": "bbdc466a-a9be-4fd5-9a76-45f0f7c0d382",
   "metadata": {},
   "outputs": [
    {
     "name": "stdout",
     "output_type": "stream",
     "text": [
      "<class 'pandas.core.frame.DataFrame'>\n",
      "RangeIndex: 568630 entries, 0 to 568629\n",
      "Data columns (total 31 columns):\n",
      " #   Column  Non-Null Count   Dtype  \n",
      "---  ------  --------------   -----  \n",
      " 0   id      568630 non-null  int64  \n",
      " 1   V1      568630 non-null  float64\n",
      " 2   V2      568630 non-null  float64\n",
      " 3   V3      568630 non-null  float64\n",
      " 4   V4      568630 non-null  float64\n",
      " 5   V5      568630 non-null  float64\n",
      " 6   V6      568630 non-null  float64\n",
      " 7   V7      568630 non-null  float64\n",
      " 8   V8      568630 non-null  float64\n",
      " 9   V9      568630 non-null  float64\n",
      " 10  V10     568630 non-null  float64\n",
      " 11  V11     568630 non-null  float64\n",
      " 12  V12     568630 non-null  float64\n",
      " 13  V13     568630 non-null  float64\n",
      " 14  V14     568630 non-null  float64\n",
      " 15  V15     568630 non-null  float64\n",
      " 16  V16     568630 non-null  float64\n",
      " 17  V17     568630 non-null  float64\n",
      " 18  V18     568630 non-null  float64\n",
      " 19  V19     568630 non-null  float64\n",
      " 20  V20     568630 non-null  float64\n",
      " 21  V21     568630 non-null  float64\n",
      " 22  V22     568630 non-null  float64\n",
      " 23  V23     568630 non-null  float64\n",
      " 24  V24     568630 non-null  float64\n",
      " 25  V25     568630 non-null  float64\n",
      " 26  V26     568630 non-null  float64\n",
      " 27  V27     568630 non-null  float64\n",
      " 28  V28     568630 non-null  float64\n",
      " 29  Amount  568630 non-null  float64\n",
      " 30  Class   568630 non-null  int64  \n",
      "dtypes: float64(29), int64(2)\n",
      "memory usage: 134.5 MB\n"
     ]
    }
   ],
   "source": [
    "credit_card_data.info()"
   ]
  },
  {
   "cell_type": "code",
   "execution_count": 7,
   "id": "bedaabb6-4fbe-4395-b735-96351c49ad23",
   "metadata": {},
   "outputs": [
    {
     "data": {
      "text/plain": [
       "id        0\n",
       "V1        0\n",
       "V2        0\n",
       "V3        0\n",
       "V4        0\n",
       "V5        0\n",
       "V6        0\n",
       "V7        0\n",
       "V8        0\n",
       "V9        0\n",
       "V10       0\n",
       "V11       0\n",
       "V12       0\n",
       "V13       0\n",
       "V14       0\n",
       "V15       0\n",
       "V16       0\n",
       "V17       0\n",
       "V18       0\n",
       "V19       0\n",
       "V20       0\n",
       "V21       0\n",
       "V22       0\n",
       "V23       0\n",
       "V24       0\n",
       "V25       0\n",
       "V26       0\n",
       "V27       0\n",
       "V28       0\n",
       "Amount    0\n",
       "Class     0\n",
       "dtype: int64"
      ]
     },
     "execution_count": 7,
     "metadata": {},
     "output_type": "execute_result"
    }
   ],
   "source": [
    "credit_card_data.isnull().sum()"
   ]
  },
  {
   "cell_type": "code",
   "execution_count": 8,
   "id": "8a587e39-99ab-4eb7-a486-a230a200046e",
   "metadata": {},
   "outputs": [
    {
     "data": {
      "text/plain": [
       "Class\n",
       "0    284315\n",
       "1    284315\n",
       "Name: count, dtype: int64"
      ]
     },
     "execution_count": 8,
     "metadata": {},
     "output_type": "execute_result"
    }
   ],
   "source": [
    "credit_card_data['Class'].value_counts()"
   ]
  },
  {
   "cell_type": "code",
   "execution_count": 9,
   "id": "df8295de-1b07-4af5-975d-899473988e2b",
   "metadata": {},
   "outputs": [
    {
     "name": "stdout",
     "output_type": "stream",
     "text": [
      "(284315, 31)\n",
      "(284315, 31)\n"
     ]
    }
   ],
   "source": [
    "# separating the data for analysis\n",
    "legit = credit_card_data[credit_card_data.Class == 0]\n",
    "fraud = credit_card_data[credit_card_data.Class == 1]\n",
    "print(legit.shape)\n",
    "print(fraud.shape)"
   ]
  },
  {
   "cell_type": "code",
   "execution_count": 10,
   "id": "9c72906d-9681-4b59-a3c0-c43f2c88f12e",
   "metadata": {},
   "outputs": [
    {
     "data": {
      "text/plain": [
       "count    284315.000000\n",
       "mean      12026.313506\n",
       "std        6929.500715\n",
       "min          50.120000\n",
       "25%        6034.540000\n",
       "50%       11996.900000\n",
       "75%       18040.265000\n",
       "max       24039.930000\n",
       "Name: Amount, dtype: float64"
      ]
     },
     "execution_count": 10,
     "metadata": {},
     "output_type": "execute_result"
    }
   ],
   "source": [
    "# statistical measures of the data\n",
    "legit.Amount.describe()"
   ]
  },
  {
   "cell_type": "code",
   "execution_count": 11,
   "id": "73458b35-8930-42a4-8d22-7cd360dbe414",
   "metadata": {},
   "outputs": [
    {
     "data": {
      "text/plain": [
       "count    284315.000000\n",
       "mean      12057.601763\n",
       "std        6909.750891\n",
       "min          50.010000\n",
       "25%        6074.640000\n",
       "50%       12062.450000\n",
       "75%       18033.780000\n",
       "max       24039.930000\n",
       "Name: Amount, dtype: float64"
      ]
     },
     "execution_count": 11,
     "metadata": {},
     "output_type": "execute_result"
    }
   ],
   "source": [
    "fraud.Amount.describe()"
   ]
  },
  {
   "cell_type": "code",
   "execution_count": 12,
   "id": "37bdaff4-f5de-496f-9e70-ae98f56f2de2",
   "metadata": {},
   "outputs": [
    {
     "data": {
      "text/html": [
       "<div>\n",
       "<style scoped>\n",
       "    .dataframe tbody tr th:only-of-type {\n",
       "        vertical-align: middle;\n",
       "    }\n",
       "\n",
       "    .dataframe tbody tr th {\n",
       "        vertical-align: top;\n",
       "    }\n",
       "\n",
       "    .dataframe thead th {\n",
       "        text-align: right;\n",
       "    }\n",
       "</style>\n",
       "<table border=\"1\" class=\"dataframe\">\n",
       "  <thead>\n",
       "    <tr style=\"text-align: right;\">\n",
       "      <th></th>\n",
       "      <th>id</th>\n",
       "      <th>V1</th>\n",
       "      <th>V2</th>\n",
       "      <th>V3</th>\n",
       "      <th>V4</th>\n",
       "      <th>V5</th>\n",
       "      <th>V6</th>\n",
       "      <th>V7</th>\n",
       "      <th>V8</th>\n",
       "      <th>V9</th>\n",
       "      <th>...</th>\n",
       "      <th>V20</th>\n",
       "      <th>V21</th>\n",
       "      <th>V22</th>\n",
       "      <th>V23</th>\n",
       "      <th>V24</th>\n",
       "      <th>V25</th>\n",
       "      <th>V26</th>\n",
       "      <th>V27</th>\n",
       "      <th>V28</th>\n",
       "      <th>Amount</th>\n",
       "    </tr>\n",
       "    <tr>\n",
       "      <th>Class</th>\n",
       "      <th></th>\n",
       "      <th></th>\n",
       "      <th></th>\n",
       "      <th></th>\n",
       "      <th></th>\n",
       "      <th></th>\n",
       "      <th></th>\n",
       "      <th></th>\n",
       "      <th></th>\n",
       "      <th></th>\n",
       "      <th></th>\n",
       "      <th></th>\n",
       "      <th></th>\n",
       "      <th></th>\n",
       "      <th></th>\n",
       "      <th></th>\n",
       "      <th></th>\n",
       "      <th></th>\n",
       "      <th></th>\n",
       "      <th></th>\n",
       "      <th></th>\n",
       "    </tr>\n",
       "  </thead>\n",
       "  <tbody>\n",
       "    <tr>\n",
       "      <th>0</th>\n",
       "      <td>142442.987714</td>\n",
       "      <td>0.505761</td>\n",
       "      <td>-0.491878</td>\n",
       "      <td>0.682095</td>\n",
       "      <td>-0.735981</td>\n",
       "      <td>0.338639</td>\n",
       "      <td>0.435088</td>\n",
       "      <td>0.491234</td>\n",
       "      <td>-0.144294</td>\n",
       "      <td>0.585522</td>\n",
       "      <td>...</td>\n",
       "      <td>-0.179851</td>\n",
       "      <td>-0.10964</td>\n",
       "      <td>-0.014098</td>\n",
       "      <td>-0.010255</td>\n",
       "      <td>0.130107</td>\n",
       "      <td>-0.061847</td>\n",
       "      <td>-0.071052</td>\n",
       "      <td>-0.214002</td>\n",
       "      <td>-0.102024</td>\n",
       "      <td>12026.313506</td>\n",
       "    </tr>\n",
       "    <tr>\n",
       "      <th>1</th>\n",
       "      <td>426186.012286</td>\n",
       "      <td>-0.505761</td>\n",
       "      <td>0.491878</td>\n",
       "      <td>-0.682095</td>\n",
       "      <td>0.735981</td>\n",
       "      <td>-0.338639</td>\n",
       "      <td>-0.435088</td>\n",
       "      <td>-0.491234</td>\n",
       "      <td>0.144294</td>\n",
       "      <td>-0.585522</td>\n",
       "      <td>...</td>\n",
       "      <td>0.179851</td>\n",
       "      <td>0.10964</td>\n",
       "      <td>0.014098</td>\n",
       "      <td>0.010255</td>\n",
       "      <td>-0.130107</td>\n",
       "      <td>0.061847</td>\n",
       "      <td>0.071052</td>\n",
       "      <td>0.214002</td>\n",
       "      <td>0.102024</td>\n",
       "      <td>12057.601763</td>\n",
       "    </tr>\n",
       "  </tbody>\n",
       "</table>\n",
       "<p>2 rows × 30 columns</p>\n",
       "</div>"
      ],
      "text/plain": [
       "                  id        V1        V2        V3        V4        V5  \\\n",
       "Class                                                                    \n",
       "0      142442.987714  0.505761 -0.491878  0.682095 -0.735981  0.338639   \n",
       "1      426186.012286 -0.505761  0.491878 -0.682095  0.735981 -0.338639   \n",
       "\n",
       "             V6        V7        V8        V9  ...       V20      V21  \\\n",
       "Class                                          ...                      \n",
       "0      0.435088  0.491234 -0.144294  0.585522  ... -0.179851 -0.10964   \n",
       "1     -0.435088 -0.491234  0.144294 -0.585522  ...  0.179851  0.10964   \n",
       "\n",
       "            V22       V23       V24       V25       V26       V27       V28  \\\n",
       "Class                                                                         \n",
       "0     -0.014098 -0.010255  0.130107 -0.061847 -0.071052 -0.214002 -0.102024   \n",
       "1      0.014098  0.010255 -0.130107  0.061847  0.071052  0.214002  0.102024   \n",
       "\n",
       "             Amount  \n",
       "Class                \n",
       "0      12026.313506  \n",
       "1      12057.601763  \n",
       "\n",
       "[2 rows x 30 columns]"
      ]
     },
     "execution_count": 12,
     "metadata": {},
     "output_type": "execute_result"
    }
   ],
   "source": [
    "# compare the values for both transactions\n",
    "credit_card_data.groupby('Class').mean()"
   ]
  },
  {
   "cell_type": "code",
   "execution_count": 13,
   "id": "89e305ba-b5c5-4bd5-9fbf-47d594dab348",
   "metadata": {},
   "outputs": [],
   "source": [
    "X = credit_card_data.drop(columns='Class', axis=1)\n",
    "Y = credit_card_data['Class']"
   ]
  },
  {
   "cell_type": "code",
   "execution_count": 14,
   "id": "34b04726-95a2-44a2-b753-4dcb2660c3b3",
   "metadata": {},
   "outputs": [
    {
     "name": "stdout",
     "output_type": "stream",
     "text": [
      "            id        V1        V2        V3        V4        V5        V6  \\\n",
      "0            0 -0.260648 -0.469648  2.496266 -0.083724  0.129681  0.732898   \n",
      "1            1  0.985100 -0.356045  0.558056 -0.429654  0.277140  0.428605   \n",
      "2            2 -0.260272 -0.949385  1.728538 -0.457986  0.074062  1.419481   \n",
      "3            3 -0.152152 -0.508959  1.746840 -1.090178  0.249486  1.143312   \n",
      "4            4 -0.206820 -0.165280  1.527053 -0.448293  0.106125  0.530549   \n",
      "...        ...       ...       ...       ...       ...       ...       ...   \n",
      "568625  568625 -0.833437  0.061886 -0.899794  0.904227 -1.002401  0.481454   \n",
      "568626  568626 -0.670459 -0.202896 -0.068129 -0.267328 -0.133660  0.237148   \n",
      "568627  568627 -0.311997 -0.004095  0.137526 -0.035893 -0.042291  0.121098   \n",
      "568628  568628  0.636871 -0.516970 -0.300889 -0.144480  0.131042 -0.294148   \n",
      "568629  568629 -0.795144  0.433236 -0.649140  0.374732 -0.244976 -0.603493   \n",
      "\n",
      "              V7        V8        V9  ...       V20       V21       V22  \\\n",
      "0       0.519014 -0.130006  0.727159  ...  0.091202 -0.110552  0.217606   \n",
      "1       0.406466 -0.133118  0.347452  ... -0.233984 -0.194936 -0.605761   \n",
      "2       0.743511 -0.095576 -0.261297  ...  0.361652 -0.005020  0.702906   \n",
      "3       0.518269 -0.065130 -0.205698  ... -0.378223 -0.146927 -0.038212   \n",
      "4       0.658849 -0.212660  1.049921  ...  0.247237 -0.106984  0.729727   \n",
      "...          ...       ...       ...  ...       ...       ...       ...   \n",
      "568625 -0.370393  0.189694 -0.938153  ... -0.751011  0.167503  0.419731   \n",
      "568626 -0.016935 -0.147733  0.483894  ... -0.550260  0.031874  0.388161   \n",
      "568627 -0.070958 -0.019997 -0.122048  ... -0.076417  0.140788  0.536523   \n",
      "568628  0.580568 -0.207723  0.893527  ...  0.288186 -0.060381 -0.195609   \n",
      "568629 -0.347613 -0.340814  0.253971  ... -0.621378  0.534853 -0.291514   \n",
      "\n",
      "             V23       V24       V25       V26       V27       V28    Amount  \n",
      "0      -0.134794  0.165959  0.126280 -0.434824 -0.081230 -0.151045  17982.10  \n",
      "1       0.079469 -0.577395  0.190090  0.296503 -0.248052 -0.064512   6531.37  \n",
      "2       0.945045 -1.154666 -0.605564 -0.312895 -0.300258 -0.244718   2513.54  \n",
      "3      -0.214048 -1.893131  1.003963 -0.515950 -0.165316  0.048424   5384.44  \n",
      "4      -0.161666  0.312561 -0.414116  1.071126  0.023712  0.419117  14278.97  \n",
      "...          ...       ...       ...       ...       ...       ...       ...  \n",
      "568625  1.288249 -0.900861  0.560661 -0.006018  3.308968  0.081564   4394.16  \n",
      "568626 -0.154257 -0.846452 -0.153443  1.961398 -1.528642  1.704306   4653.40  \n",
      "568627 -0.211100 -0.448909  0.540073 -0.755836 -0.487540 -0.268741  23572.85  \n",
      "568628 -0.175488 -0.554643 -0.099669 -1.434931 -0.159269 -0.076251  10160.83  \n",
      "568629  0.157303  0.931030 -0.349423 -1.090974 -1.575113  0.722936  21493.92  \n",
      "\n",
      "[568630 rows x 30 columns]\n"
     ]
    }
   ],
   "source": [
    "print(X)"
   ]
  },
  {
   "cell_type": "code",
   "execution_count": 15,
   "id": "6f84c1aa-dd38-4017-8adf-77ac78fc8914",
   "metadata": {},
   "outputs": [
    {
     "name": "stdout",
     "output_type": "stream",
     "text": [
      "0         0\n",
      "1         0\n",
      "2         0\n",
      "3         0\n",
      "4         0\n",
      "         ..\n",
      "568625    1\n",
      "568626    1\n",
      "568627    1\n",
      "568628    1\n",
      "568629    1\n",
      "Name: Class, Length: 568630, dtype: int64\n"
     ]
    }
   ],
   "source": [
    "print(Y)"
   ]
  },
  {
   "cell_type": "code",
   "execution_count": 16,
   "id": "34761920-43a2-4b28-b189-631079f935e9",
   "metadata": {},
   "outputs": [],
   "source": [
    "X_train, X_test, Y_train, Y_test = train_test_split(X, Y, test_size=0.2, stratify=Y, random_state=2)"
   ]
  },
  {
   "cell_type": "code",
   "execution_count": 17,
   "id": "fb58b742-8b4f-4823-b336-f327522351f2",
   "metadata": {},
   "outputs": [
    {
     "name": "stdout",
     "output_type": "stream",
     "text": [
      "(568630, 30) (454904, 30) (113726, 30)\n"
     ]
    }
   ],
   "source": [
    "print(X.shape, X_train.shape, X_test.shape)"
   ]
  },
  {
   "cell_type": "code",
   "execution_count": 18,
   "id": "955d04b4-5201-4398-b23b-8a7813233b72",
   "metadata": {},
   "outputs": [],
   "source": [
    "model = GaussianNB()"
   ]
  },
  {
   "cell_type": "code",
   "execution_count": 19,
   "id": "8d0982a4-e0fe-4f70-a9be-a57bfd9c932e",
   "metadata": {},
   "outputs": [
    {
     "name": "stdout",
     "output_type": "stream",
     "text": [
      "Time taken to fit the model: 0.20 seconds\n"
     ]
    }
   ],
   "source": [
    "import time\n",
    "\n",
    "# Start the timer\n",
    "start_time = time.time()\n",
    "\n",
    "# Fit the model\n",
    "model.fit(X_train, Y_train)\n",
    "\n",
    "# End the timer\n",
    "end_time = time.time()\n",
    "\n",
    "# Calculate and display the elapsed time\n",
    "elapsed_time = end_time - start_time\n",
    "print(f\"Time taken to fit the model: {elapsed_time:.2f} seconds\")"
   ]
  },
  {
   "cell_type": "code",
   "execution_count": 20,
   "id": "1bc31f54-45fc-4fee-852a-2808e93c157a",
   "metadata": {},
   "outputs": [],
   "source": [
    "# accuracy on training data\n",
    "X_train_prediction = model.predict(X_train)\n",
    "training_data_accuracy = accuracy_score(X_train_prediction, Y_train)"
   ]
  },
  {
   "cell_type": "code",
   "execution_count": 21,
   "id": "d28f9372-70fc-40d2-bd3e-9d7a6a3c9db4",
   "metadata": {},
   "outputs": [
    {
     "name": "stdout",
     "output_type": "stream",
     "text": [
      "Accuracy on Training data :  0.9944911453845207\n"
     ]
    }
   ],
   "source": [
    "print('Accuracy on Training data : ', training_data_accuracy)"
   ]
  },
  {
   "cell_type": "code",
   "execution_count": 22,
   "id": "1d079539-91b2-4421-b132-952c97462bd9",
   "metadata": {},
   "outputs": [],
   "source": [
    "# accuracy on test data\n",
    "X_test_prediction = model.predict(X_test)\n",
    "test_data_accuracy = accuracy_score(X_test_prediction, Y_test)"
   ]
  },
  {
   "cell_type": "code",
   "execution_count": 23,
   "id": "29acba71-cab0-4611-8b18-40c368a8334e",
   "metadata": {},
   "outputs": [
    {
     "name": "stdout",
     "output_type": "stream",
     "text": [
      "Accuracy score on Test Data :  0.9945219211086295\n"
     ]
    }
   ],
   "source": [
    "print('Accuracy score on Test Data : ', test_data_accuracy)"
   ]
  },
  {
   "cell_type": "code",
   "execution_count": 24,
   "id": "b45e966c-1974-4781-9599-0ff8c2c43613",
   "metadata": {},
   "outputs": [],
   "source": [
    "# Make predictions on the test set\n",
    "Y_pred = model.predict(X_test)\n",
    "Y_pred_proba = model.predict_proba(X_test)[:, 1]"
   ]
  },
  {
   "cell_type": "code",
   "execution_count": 25,
   "id": "e490a307-a21f-48ad-be61-50eb963d5342",
   "metadata": {},
   "outputs": [
    {
     "name": "stdout",
     "output_type": "stream",
     "text": [
      "              precision    recall  f1-score   support\n",
      "\n",
      "           0       0.99      1.00      0.99     56863\n",
      "           1       1.00      0.99      0.99     56863\n",
      "\n",
      "    accuracy                           0.99    113726\n",
      "   macro avg       0.99      0.99      0.99    113726\n",
      "weighted avg       0.99      0.99      0.99    113726\n",
      "\n",
      "[[56863     0]\n",
      " [  623 56240]]\n"
     ]
    },
    {
     "data": {
      "image/png": "[encoded data removed]",
      "text/plain": [
       "<Figure size 800x600 with 2 Axes>"
      ]
     },
     "metadata": {},
     "output_type": "display_data"
    }
   ],
   "source": [
    "# Print classification report\n",
    "print(classification_report(Y_test, Y_pred))\n",
    "\n",
    "# Print confusion matrix\n",
    "conf_matrix = confusion_matrix(Y_test, Y_pred)\n",
    "print(conf_matrix)\n",
    "\n",
    "# Plot confusion matrix\n",
    "plt.figure(figsize=(8, 6))\n",
    "sns.heatmap(conf_matrix, annot=True, fmt='d', cmap='Blues', xticklabels=['Not Fraud', 'Fraud'], yticklabels=['Not Fraud', 'Fraud'])\n",
    "plt.xlabel('Predicted')\n",
    "plt.ylabel('Actual')\n",
    "plt.title('Confusion Matrix')\n",
    "plt.show()"
   ]
  },
  {
   "cell_type": "code",
   "execution_count": 26,
   "id": "af80f0ae-85fd-473e-bbb2-a08b5b33d9b3",
   "metadata": {},
   "outputs": [
    {
     "name": "stdout",
     "output_type": "stream",
     "text": [
      "ROC AUC Score: 0.9991066597658745\n"
     ]
    },
    {
     "data": {
      "image/png": "[encoded data removed]",
      "text/plain": [
       "<Figure size 800x600 with 1 Axes>"
      ]
     },
     "metadata": {},
     "output_type": "display_data"
    }
   ],
   "source": [
    "# ROC AUC Score\n",
    "roc_auc = roc_auc_score(Y_test, Y_pred_proba)\n",
    "print(f'ROC AUC Score: {roc_auc}')\n",
    "\n",
    "# Plot ROC Curve\n",
    "fpr, tpr, _ = roc_curve(Y_test, Y_pred_proba)\n",
    "roc_auc = auc(fpr, tpr)\n",
    "\n",
    "plt.figure(figsize=(8, 6))\n",
    "plt.plot(fpr, tpr, color='darkorange', lw=2, label=f'ROC curve (area = {roc_auc:.2f})')\n",
    "plt.plot([0, 1], [0, 1], color='navy', lw=2, linestyle='--')\n",
    "plt.xlim([0.0, 1.0])\n",
    "plt.ylim([0.0, 1.05])\n",
    "plt.xlabel('False Positive Rate')\n",
    "plt.ylabel('True Positive Rate')\n",
    "plt.title('Receiver Operating Characteristic (ROC) Curve')\n",
    "plt.legend(loc=\"lower right\")\n",
    "plt.show()"
   ]
  },
  {
   "cell_type": "code",
   "execution_count": 27,
   "id": "ae694709-999d-46d1-84ef-df24fdd466f0",
   "metadata": {},
   "outputs": [
    {
     "name": "stdout",
     "output_type": "stream",
     "text": [
      "Accuracy: 0.9945\n"
     ]
    }
   ],
   "source": [
    "# Calculate Accuracy\n",
    "accuracy = accuracy_score(Y_test, Y_pred)\n",
    "print(f'Accuracy: {accuracy:.4f}')"
   ]
  },
  {
   "cell_type": "code",
   "execution_count": 28,
   "id": "a2f57054-a643-46f4-8a30-e46ee908bd0a",
   "metadata": {},
   "outputs": [
    {
     "name": "stderr",
     "output_type": "stream",
     "text": [
      "/var/folders/mg/xpmfk2gj16g9f0d644jfl6gw0000gn/T/ipykernel_15131/639020581.py:15: FutureWarning: \n",
      "\n",
      "Passing `palette` without assigning `hue` is deprecated and will be removed in v0.14.0. Assign the `y` variable to `hue` and set `legend=False` for the same effect.\n",
      "\n",
      "  sns.barplot(x='Importance', y='Feature', data=importance_df, palette='viridis')\n"
     ]
    },
    {
     "data": {
      "image/png": "[encoded data removed]",
      "text/plain": [
       "<Figure size 1200x800 with 1 Axes>"
      ]
     },
     "metadata": {},
     "output_type": "display_data"
    }
   ],
   "source": [
    "from sklearn.inspection import permutation_importance\n",
    "# Get feature importance (coefficients) from Logistic Regression model\n",
    "perm_importance = permutation_importance(model, X_test, Y_test, n_repeats=10, random_state=42)\n",
    "\n",
    "# Extract feature importance and feature names\n",
    "feature_importance = perm_importance.importances_mean\n",
    "feature_names = X.columns\n",
    "\n",
    "# Create a DataFrame for better visualization\n",
    "importance_df = pd.DataFrame({'Feature': feature_names, 'Importance': feature_importance})\n",
    "importance_df = importance_df.sort_values(by='Importance', ascending=False)\n",
    "\n",
    "# Plot feature importance\n",
    "plt.figure(figsize=(12, 8))\n",
    "sns.barplot(x='Importance', y='Feature', data=importance_df, palette='viridis')\n",
    "plt.title('Feature Importance (GaussianNB - Permutation Importance)')\n",
    "plt.xlabel('Mean Importance (Impact on Model Performance)')\n",
    "plt.ylabel('Features')\n",
    "plt.show()"
   ]
  },
  {
   "cell_type": "code",
   "execution_count": 29,
   "id": "45864038-ef6f-488e-bdaa-8f6a353e6cac",
   "metadata": {},
   "outputs": [
    {
     "data": {
      "image/png": "[encoded data removed]",
      "text/plain": [
       "<Figure size 1000x600 with 1 Axes>"
      ]
     },
     "metadata": {},
     "output_type": "display_data"
    }
   ],
   "source": [
    "# Plot the distribution of the 'Amount' feature\n",
    "plt.figure(figsize=(10, 6))\n",
    "sns.histplot(credit_card_data['Amount'], kde=True, bins=30)\n",
    "plt.title('Distribution of Transaction Amount')\n",
    "plt.xlabel('Amount')\n",
    "plt.ylabel('Frequency')\n",
    "plt.show()"
   ]
  },
  {
   "cell_type": "code",
   "execution_count": 30,
   "id": "f7c834f3-f786-4b13-976e-d4b2f10eeb8d",
   "metadata": {},
   "outputs": [
    {
     "data": {
      "image/png": "[encoded data removed]",
      "text/plain": [
       "<Figure size 1000x600 with 1 Axes>"
      ]
     },
     "metadata": {},
     "output_type": "display_data"
    }
   ],
   "source": [
    "# Plot the distribution of the 'id' feature\n",
    "plt.figure(figsize=(10, 6))\n",
    "sns.histplot(credit_card_data['id'], kde=True, bins=30)\n",
    "plt.title('Distribution of Transaction id')\n",
    "plt.xlabel('id')\n",
    "plt.ylabel('Frequency')\n",
    "plt.show()"
   ]
  },
  {
   "cell_type": "code",
   "execution_count": 31,
   "id": "94c9ab0b-a373-4e5f-be97-85cb26534eee",
   "metadata": {},
   "outputs": [
    {
     "data": {
      "image/png": "[encoded data removed]",
      "text/plain": [
       "<Figure size 1200x1000 with 2 Axes>"
      ]
     },
     "metadata": {},
     "output_type": "display_data"
    }
   ],
   "source": [
    "# Plot the correlation heatmap\n",
    "plt.figure(figsize=(12, 10))\n",
    "corr = credit_card_data.corr()\n",
    "sns.heatmap(corr, annot=False, cmap='coolwarm')\n",
    "plt.title('Correlation Heatmap')\n",
    "plt.show()"
   ]
  },
  {
   "cell_type": "code",
   "execution_count": 32,
   "id": "db7f637b-790f-4537-925e-8a326c6526c2",
   "metadata": {},
   "outputs": [],
   "source": [
    "scaler = StandardScaler()\n",
    "credit_card_data['Amount'] = scaler.fit_transform(credit_card_data['Amount'].values.reshape(-1, 1))"
   ]
  },
  {
   "cell_type": "code",
   "execution_count": 33,
   "id": "5173f712-9a80-45d5-8117-4b99da78b959",
   "metadata": {},
   "outputs": [
    {
     "name": "stdout",
     "output_type": "stream",
     "text": [
      "Prediction: Not Fraud\n",
      "Probability of Fraud: 0.0004\n"
     ]
    }
   ],
   "source": [
    "# Example transaction data\n",
    "new_transaction = {\n",
    "    'id': 100000,\n",
    "    'V1': -1.3598071336738,\n",
    "    'V2': -0.0727811733098497,\n",
    "    'V3': 2.53634673796914,\n",
    "    'V4': 1.37815522427443,\n",
    "    'V5': -0.338320769942518,\n",
    "    'V6': 0.462387777762292,\n",
    "    'V7': 0.239598554061257,\n",
    "    'V8': 0.0986979012610507,\n",
    "    'V9': 0.36378696961081,\n",
    "    'V10': 0.090794171978831,\n",
    "    'V11': -0.551599533260813,\n",
    "    'V12': -0.617800855762348,\n",
    "    'V13': -0.991389847235408,\n",
    "    'V14': -0.311169353699879,\n",
    "    'V15': 1.46817697209612,\n",
    "    'V16': -0.470400525259478,\n",
    "    'V17': 0.207971241929242,\n",
    "    'V18': 0.0257905801965587,\n",
    "    'V19': 0.403992960255733,\n",
    "    'V20': 0.251412098259138,\n",
    "    'V21': -0.018306777944153,\n",
    "    'V22': 0.277837575558899,\n",
    "    'V23': -0.110473910188727,\n",
    "    'V24': 0.0669280749146731,\n",
    "    'V25': 0.128539358273528,\n",
    "    'V26': -0.189114843888824,\n",
    "    'V27': 0.133558376740387,\n",
    "    'V28': -0.021053053453821,\n",
    "    'Amount': 123.5\n",
    "}\n",
    "\n",
    "# Convert the dictionary to a DataFrame\n",
    "new_transaction_df = pd.DataFrame([new_transaction])\n",
    "\n",
    "# Scale the 'Amount' feature\n",
    "new_transaction_df['Amount'] = scaler.transform(new_transaction_df['Amount'].values.reshape(-1, 1))\n",
    "\n",
    "# Predict the class\n",
    "prediction = model.predict(new_transaction_df)\n",
    "probability = model.predict_proba(new_transaction_df)[:, 1]\n",
    "\n",
    "print(f'Prediction: {\"Fraud\" if prediction[0] == 1 else \"Not Fraud\"}')\n",
    "print(f'Probability of Fraud: {probability[0]:.4f}')"
   ]
  },
  {
   "cell_type": "code",
   "execution_count": 34,
   "id": "44ecc60a-ccbd-485a-8cad-950003d360ba",
   "metadata": {},
   "outputs": [
    {
     "name": "stdout",
     "output_type": "stream",
     "text": [
      "Prediction: Not Fraud\n",
      "Probability of Fraud: 0.0000\n"
     ]
    }
   ],
   "source": [
    "# Example transaction data\n",
    "new_non_fraud_transaction = {\n",
    "    'id': 10000,\n",
    "    'V1': -0.5448621018518518,\n",
    "    'V2': 0.5448621018518518,\n",
    "    'V3': -0.5448621018518518,\n",
    "    'V4': 1.5448621018518518,\n",
    "    'V5': -0.5448621018518518,\n",
    "    'V6': 0.5448621018518518,\n",
    "    'V7': -0.5448621018518518,\n",
    "    'V8': 0.5448621018518518,\n",
    "    'V9': -0.5448621018518518,\n",
    "    'V10': 0.5448621018518518,\n",
    "    'V11': -1.5448621018518518,\n",
    "    'V12': 1.5448621018518518,\n",
    "    'V13': -0.5448621018518518,\n",
    "    'V14': 0.5448621018518518,\n",
    "    'V15': -0.5448621018518518,\n",
    "    'V16': 0.5448621018518518,\n",
    "    'V17': -0.5448621018518518,\n",
    "    'V18': 0.5448621018518518,\n",
    "    'V19': -0.5448621018518518,\n",
    "    'V20': 0.5448621018518518,\n",
    "    'V21': -0.5448621018518518,\n",
    "    'V22': 0.5448621018518518,\n",
    "    'V23': -0.5448621018518518,\n",
    "    'V24': 0.5448621018518518,\n",
    "    'V25': -0.5448621018518518,\n",
    "    'V26': 0.5448621018518518,\n",
    "    'V27': -0.5448621018518518,\n",
    "    'V28': 0.5448621018518518,\n",
    "    'Amount': 2000.0  # Small transaction amount\n",
    "}\n",
    "\n",
    "# Convert the dictionary to a DataFrame\n",
    "new_non_fraud_transaction_df = pd.DataFrame([new_non_fraud_transaction])\n",
    "\n",
    "# Scale the 'Amount' feature\n",
    "new_non_fraud_transaction_df['Amount'] = scaler.transform(new_non_fraud_transaction_df['Amount'].values.reshape(-1, 1))\n",
    "\n",
    "# Predict the class\n",
    "prediction = model.predict(new_non_fraud_transaction_df)\n",
    "probability = model.predict_proba(new_non_fraud_transaction_df)[:, 1]\n",
    "\n",
    "print(f'Prediction: {\"Fraud\" if prediction[0] == 1 else \"Not Fraud\"}')\n",
    "print(f'Probability of Fraud: {probability[0]:.4f}')"
   ]
  }
 ],
 "metadata": {
  "kernelspec": {
   "display_name": "Python 3 (ipykernel)",
   "language": "python",
   "name": "python3"
  },
  "language_info": {
   "codemirror_mode": {
    "name": "ipython",
    "version": 3
   },
   "file_extension": ".py",
   "mimetype": "text/x-python",
   "name": "python",
   "nbconvert_exporter": "python",
   "pygments_lexer": "ipython3",
   "version": "3.13.1"
  }
 },
 "nbformat": 4,
 "nbformat_minor": 5
}
